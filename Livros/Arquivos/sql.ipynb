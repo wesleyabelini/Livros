{
 "cells": [
  {
   "cell_type": "markdown",
   "metadata": {},
   "source": [
    "STOPWORDS"
   ]
  },
  {
   "cell_type": "code",
   "execution_count": 5,
   "metadata": {},
   "outputs": [],
   "source": [
    "import pyodbc\n",
    "\n",
    "stopwords = []\n",
    "\n",
    "for line in open(\"C:\\\\Users\\\\w_vic\\\\pythonfiles\\\\stopwords.txt\", encoding=\"ISO-8859-1\"):\n",
    "    stopwords.append(line.replace(\"\\n\",\"\"))\n",
    "\n",
    "cnxn = pyodbc.connect('Driver={SQL Server};Server=DellNote;Database=LeLivro;Trusted_Connection=yes;')\n",
    "cursor = cnxn.cursor()\n",
    "\n",
    "for word in stopwords:\n",
    "    cursor.execute(\"insert into StopWords(word) values ('\" + word +\"')\")\n",
    "    cnxn.commit()\n",
    "        "
   ]
  },
  {
   "cell_type": "markdown",
   "metadata": {},
   "source": [
    "DICIONÁRIO"
   ]
  },
  {
   "cell_type": "code",
   "execution_count": 17,
   "metadata": {},
   "outputs": [],
   "source": [
    "import pandas as pd\n",
    "import pyodbc\n",
    "\n",
    "dicioptbr = pd.read_csv(\"C:\\\\Users\\\\w_vic\\\\pythonfiles\\\\dicionario.txt\")\n",
    "\n",
    "cnxn = pyodbc.connect('Driver={SQL Server};Server=DellNote;Database=LeLivro;Trusted_Connection=yes;')\n",
    "cursor = cnxn.cursor()\n",
    "\n",
    "for word in dicioptbr.values:\n",
    "    cursor.execute(\"insert into Dicionario(word) values ('\" + str(word[0].replace(\"'\",\"\")) +\"')\")\n",
    "    cnxn.commit()"
   ]
  },
  {
   "cell_type": "markdown",
   "metadata": {},
   "source": [
    "WORD2COUNT"
   ]
  },
  {
   "cell_type": "code",
   "execution_count": 32,
   "metadata": {},
   "outputs": [],
   "source": [
    "import json\n",
    "\n",
    "with open(\"C:\\\\Users\\\\w_vic\\\\pythonfiles\\\\word2count2.json\", encoding=\"utf-8\") as fh:\n",
    "    word2count = json.load(fh)\n",
    "\n",
    "cnxn = pyodbc.connect('Driver={SQL Server};Server=DellNote;Database=LeLivro;Trusted_Connection=yes;')\n",
    "cursor = cnxn.cursor()\n",
    "\n",
    "for word in word2count:\n",
    "    cmd = \"insert into Word2Count(word, cont) values ('\" + word.replace(\"'\", \"\") +\"', \" + str(word2count[word]) + \")\"\n",
    "    #print(cmd)\n",
    "    cursor.execute(cmd)\n",
    "    cnxn.commit()"
   ]
  }
 ],
 "metadata": {
  "interpreter": {
   "hash": "dac5bda38c2bb2ef4d8894effb3a9a49ed3cc053cea61755889261e202b7c6b2"
  },
  "kernelspec": {
   "display_name": "Python 3.7.1 ('base')",
   "language": "python",
   "name": "python3"
  },
  "language_info": {
   "codemirror_mode": {
    "name": "ipython",
    "version": 3
   },
   "file_extension": ".py",
   "mimetype": "text/x-python",
   "name": "python",
   "nbconvert_exporter": "python",
   "pygments_lexer": "ipython3",
   "version": "3.7.1"
  },
  "orig_nbformat": 4
 },
 "nbformat": 4,
 "nbformat_minor": 2
}
